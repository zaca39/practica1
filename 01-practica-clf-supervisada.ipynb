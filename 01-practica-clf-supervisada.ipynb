{
 "cells": [
  {
   "cell_type": "markdown",
   "metadata": {
    "button": false,
    "deletable": true,
    "new_sheet": false,
    "run_control": {
     "read_only": false
    }
   },
   "source": [
    "<div style=\"margin-bottom: 120px;\">\n",
    "    <div style=\"float:left;\">\n",
    "        <br/>\n",
    "        <img src=\"img/udc.png\" width=\"300\"/>\n",
    "    </div>\n",
    "</div>\n",
    "\n",
    "<h1 style=\"color: #d60e8c; text-align:center;\">Clasificación supervisada</h1>"
   ]
  },
  {
   "cell_type": "markdown",
   "metadata": {},
   "source": [
    "<h1>Contenidos</h1>\n",
    "\n",
    "<div class=\"alert alert-block alert-info\" \n",
    "     style=\"margin-top: 20px; padding-top:0px; padding-bottom:0px;border: 1px solid #d60e8c; border-radius: 20px; background:transparent;\">\n",
    "    <ol>\n",
    "        <li><a href=\"#intro\">Introducción</a></li>\n",
    "        <li><a href=\"#about_dataset\">El conjunto de datos</a></li>\n",
    "        <li><a href=\"#visualization_analysis\">Visualización de datos y análisis</a></li>\n",
    "        <li><a href=\"#classification\">Clasificación</a></li>\n",
    "        <li><a href=\"#exercises\">Ejercicios</a></li>\n",
    "        <li><a href=\"#save_load\">Guardar y cargar un modelo entrenado</a></li>\n",
    "        <li><a href=\"#exercise_decision_trees\">Ejercicios</a></li>\n",
    "    </ol>\n",
    "</div>"
   ]
  },
  {
   "cell_type": "markdown",
   "metadata": {},
   "source": [
    "<a name=\"intro\"></a>\n",
    "# <font style=\"color:#d60e8c;\">Introducción</font>\n",
    "<hr style=\"border: 0.5px solid #d60e8c;\">"
   ]
  },
  {
   "cell_type": "markdown",
   "metadata": {
    "button": false,
    "deletable": true,
    "new_sheet": false,
    "run_control": {
     "read_only": false
    }
   },
   "source": [
    "En esta práctica aplicaremos los algoritmos para clasificación supervisada **K-Nearest Neighbors** y **SVM** sobre un mismo conjunto de datos. Y, al finalizar, realizarás una clasificación utilizando árboles de decisión."
   ]
  },
  {
   "cell_type": "markdown",
   "metadata": {
    "button": false,
    "deletable": true,
    "new_sheet": false,
    "run_control": {
     "read_only": false
    }
   },
   "source": [
    "## Importamos las librerías\n",
    "\n",
    "Comenzamos importando las librerías que utilizaremos:"
   ]
  },
  {
   "cell_type": "code",
   "execution_count": null,
   "metadata": {
    "button": false,
    "deletable": true,
    "new_sheet": false,
    "run_control": {
     "read_only": false
    }
   },
   "outputs": [],
   "source": [
    "import matplotlib.pyplot as plt\n",
    "import pandas as pd\n",
    "import numpy as np\n",
    "import time\n",
    "\n",
    "from sklearn.model_selection import train_test_split\n",
    "from sklearn.metrics import confusion_matrix, ConfusionMatrixDisplay\n",
    "from sklearn.neighbors import KNeighborsClassifier\n",
    "from sklearn import svm\n",
    "\n",
    "%matplotlib inline"
   ]
  },
  {
   "cell_type": "markdown",
   "metadata": {
    "button": false,
    "deletable": true,
    "new_sheet": false,
    "run_control": {
     "read_only": false
    }
   },
   "source": [
    "<a name=\"about_dataset\"></a>\n",
    "# <font style=\"color:#d60e8c;\">El conjunto de datos </font>\n",
    "<hr style=\"border: 0.5px solid #d60e8c;\">"
   ]
  },
  {
   "cell_type": "markdown",
   "metadata": {
    "button": false,
    "deletable": true,
    "new_sheet": false,
    "run_control": {
     "read_only": false
    }
   },
   "source": [
    "El conjunto de datos consiste en registros de muestras de células humanas, cada uno de los cuales contiene los valores de un conjunto de características celulares. Los campos de cada registro son:\n",
    "\n",
    "<ul>\n",
    "    <li><b>ID</b>: Identificador del paciente</li>\n",
    "    <li><b>Clump</b>: Espesor</li>\n",
    "    <li><b>UnifSiz</b>: Uniformidad del tamaño de las células</li>\n",
    "    <li><b>Uniforme</b>: Uniformidad de la forma de la célula</li>\n",
    "    <li><b>MargAdh</b>: Adhesión marginal</li>\n",
    "    <li><b>SingEpiSize</b>: Tamaño de una sola célula epitelial</li>\n",
    "    <li><b>BareNuc</b>: Núcleos desnudos</li>\n",
    "    <li><b>BlandChrom</b>: Cromatina blanda</li>\n",
    "    <li><b>NormNucl</b>: Núcleos normales</li>\n",
    "    <li><b>Mit</b>: Mitosis</li>\n",
    "    <li><b>Class</b>: Benigno o maligno</li>\n",
    "</ul>\n",
    "\n",
    "El campo __ID__ contiene los identificadores de los pacientes. Los campos __desde Clump hasta Mit__, son las caractererísticas de las celdas, con valores enteros con rangos desde 1 hasta 10, donde 1 es el valor más cercarno a benigno. \n",
    "\n",
    "El campo __Class__ contiene el diagnóstico, confirmado con procedimientos médicos e indica si las muestras son benignas (valor=2) o malignas (valor=4).\n",
    "\n",
    "El objetivo es construir un clasificador, para predecir si una muestra desconocida es benigna o maligna. "
   ]
  },
  {
   "cell_type": "markdown",
   "metadata": {
    "button": false,
    "deletable": true,
    "new_sheet": false,
    "run_control": {
     "read_only": false
    }
   },
   "source": [
    "## Carga de datos desde un archivo CSV"
   ]
  },
  {
   "cell_type": "code",
   "execution_count": null,
   "metadata": {
    "button": false,
    "deletable": true,
    "new_sheet": false,
    "run_control": {
     "read_only": false
    }
   },
   "outputs": [],
   "source": [
    "df = pd.read_csv('cell_samples.csv', sep=\";\")\n",
    "df.head()"
   ]
  },
  {
   "cell_type": "markdown",
   "metadata": {
    "button": false,
    "deletable": true,
    "new_sheet": false,
    "run_control": {
     "read_only": false
    }
   },
   "source": [
    "<a name=\"visualization_analysis\"></a>\n",
    "# <font style=\"color:#d60e8c;\">Visualización y análisis de los datos </font>\n",
    "<hr style=\"border: 0.5px solid #d60e8c;\">\n"
   ]
  },
  {
   "cell_type": "markdown",
   "metadata": {
    "button": false,
    "deletable": true,
    "new_sheet": false,
    "run_control": {
     "read_only": false
    }
   },
   "source": [
    "#### Veamos cuantos elementos tiene nuestro conjunto de datos"
   ]
  },
  {
   "cell_type": "code",
   "execution_count": null,
   "metadata": {},
   "outputs": [],
   "source": [
    "df.shape"
   ]
  },
  {
   "cell_type": "markdown",
   "metadata": {},
   "source": [
    "#### Veamos cuantos elementos de cada clase tenemos"
   ]
  },
  {
   "cell_type": "code",
   "execution_count": null,
   "metadata": {
    "button": false,
    "deletable": true,
    "new_sheet": false,
    "run_control": {
     "read_only": false
    }
   },
   "outputs": [],
   "source": [
    "df['Class'].value_counts()"
   ]
  },
  {
   "cell_type": "markdown",
   "metadata": {
    "button": false,
    "deletable": true,
    "new_sheet": false,
    "run_control": {
     "read_only": false
    }
   },
   "source": [
    "Veamos los atributos que caracterizan nuestro conjunto de datos:"
   ]
  },
  {
   "cell_type": "code",
   "execution_count": null,
   "metadata": {},
   "outputs": [],
   "source": [
    "df.columns"
   ]
  },
  {
   "cell_type": "markdown",
   "metadata": {
    "button": false,
    "deletable": true,
    "new_sheet": false,
    "run_control": {
     "read_only": false
    }
   },
   "source": [
    "## Datos de entrada y clases"
   ]
  },
  {
   "cell_type": "markdown",
   "metadata": {},
   "source": [
    "Para aplicar los algoritmos de la librería <b>scikit-learn</b>, podemos convertir nuestro <b>DataFrame de Pandas</b> a dos <b>array de NumPy</b>, uno para las entradas y otro para las clases (aunque se pueden utilizar también directamente los tipos de datos de Pandas)."
   ]
  },
  {
   "cell_type": "markdown",
   "metadata": {},
   "source": [
    "Seleccionamos las columnas que utilizaremos como entradas:"
   ]
  },
  {
   "cell_type": "code",
   "execution_count": null,
   "metadata": {
    "button": false,
    "deletable": true,
    "new_sheet": false,
    "run_control": {
     "read_only": false
    }
   },
   "outputs": [],
   "source": [
    "feature_df = df[df.columns[1:df.shape[1]-1]]"
   ]
  },
  {
   "cell_type": "code",
   "execution_count": null,
   "metadata": {
    "button": false,
    "deletable": true,
    "new_sheet": false,
    "run_control": {
     "read_only": false
    }
   },
   "outputs": [],
   "source": [
    "# Usando DataFrame Pandas\n",
    "#X = feature_df\n",
    "\n",
    "# Usando array NumPy\n",
    "X = np.asarray(feature_df)\n",
    "X[0:5] # solo para inspeccionar una muestra de X"
   ]
  },
  {
   "cell_type": "markdown",
   "metadata": {
    "button": false,
    "deletable": true,
    "new_sheet": false,
    "run_control": {
     "read_only": false
    }
   },
   "source": [
    "Y ahora las clases:"
   ]
  },
  {
   "cell_type": "code",
   "execution_count": null,
   "metadata": {
    "button": false,
    "deletable": true,
    "new_sheet": false,
    "run_control": {
     "read_only": false
    }
   },
   "outputs": [],
   "source": [
    "# Usando DataFrame Pandas\n",
    "#y = df['Class']\n",
    "\n",
    "# Usando array NumPy\n",
    "y = np.asarray(df['Class'])\n",
    "y[0:5] # solo para inspeccionar una muestra de y"
   ]
  },
  {
   "cell_type": "markdown",
   "metadata": {
    "button": false,
    "deletable": true,
    "new_sheet": false,
    "run_control": {
     "read_only": false
    }
   },
   "source": [
    "## División en datos de entrenamiento y prueba\n",
    "\n",
    "La exactitud del algoritmo es el porcentaje de predicciones correctas que el modelo hace sobre datos en los que NO ha sido entrenado. \n",
    "\n",
    "Realizar el entrenamiento y las pruebas en el mismo conjunto de datos haría que los resultados fuesen muy buenos dentro del conjunto de pruebas pero probablemente malo fuera de ese conjunto de datos, ya que estaría \"sobreajustado\" a ese conjunto de datos.\n",
    "\n",
    "<b>Es importante que nuestros modelos tengan una alta exactitud fuera de muestra, porque el propósito de cualquier modelo es hacer predicciones correctas sobre datos desconocidos</b>. Entonces, ¿cómo podemos mejorar la exactitud fuera de muestra? Una forma es utilizar un enfoque de evaluación llamado <b>división entrenamiento/pruebas</b>.\n",
    "\n",
    "<b>La división de entrenamiento/pruebas implica la división del conjunto de datos en conjuntos de entrenamiento y pruebas respectivamente, que son mutuamente excluyentes</b>. Después de lo cual, se entrena con el conjunto de entrenamiento y se prueba con el conjunto de pruebas.\n",
    "\n",
    "Esto proporcionará una evaluación más precisa de la exactitud de las muestras porque el conjunto de datos de prueba no forma parte del conjunto de datos que se han utilizado para entrenar los datos. Es más realista para los problemas del mundo real.\n",
    "\n",
    "<br><br>\n",
    "El siguiente código, utiliza el 80% del conjunto de datos para entrenar el modelo y el 20% para test."
   ]
  },
  {
   "cell_type": "code",
   "execution_count": null,
   "metadata": {
    "button": false,
    "deletable": true,
    "new_sheet": false,
    "run_control": {
     "read_only": false
    }
   },
   "outputs": [],
   "source": [
    "X_train, X_test, y_train, y_test = train_test_split( X, y, test_size=0.2, random_state=4)\n",
    "print ('Train set:', X_train.shape,  y_train.shape)\n",
    "print ('Test set:', X_test.shape,  y_test.shape)"
   ]
  },
  {
   "cell_type": "markdown",
   "metadata": {
    "button": false,
    "deletable": true,
    "new_sheet": false,
    "run_control": {
     "read_only": false
    }
   },
   "source": [
    "<a name=\"classification\"></a>\n",
    "# <font style=\"color:#d60e8c;\">Clasificación</font>\n",
    "<hr style=\"border: 0.5px solid #d60e8c;\">"
   ]
  },
  {
   "cell_type": "markdown",
   "metadata": {
    "button": false,
    "deletable": true,
    "new_sheet": false,
    "run_control": {
     "read_only": false
    }
   },
   "source": [
    "## Entrenamiento"
   ]
  },
  {
   "cell_type": "markdown",
   "metadata": {
    "tags": []
   },
   "source": [
    "### KNN\n",
    "\n",
    "Utilizaremos el algoritmo <code>KNeighborsClassifier</code> de <b>scikit-learn</b> (<a href=\"https://scikit-learn.org/stable/modules/generated/sklearn.neighbors.KNeighborsClassifier.html?highlight=kneighborsclassifier#sklearn.neighbors.KNeighborsClassifier\">documentación del algoritmo</a>).\n",
    "\n"
   ]
  },
  {
   "cell_type": "code",
   "execution_count": null,
   "metadata": {
    "button": false,
    "deletable": true,
    "new_sheet": false,
    "run_control": {
     "read_only": false
    }
   },
   "outputs": [],
   "source": [
    "k = 4\n",
    "\n",
    "# Creamos nuestra instancia del modelo\n",
    "neigh = KNeighborsClassifier(n_neighbors = k)\n",
    "\n",
    "ini = time.time() \n",
    "#Entrenamiento del modelo, llamando a su método fit \n",
    "neigh.fit(X_train,y_train)\n",
    "print(f\"Tiempo entrenamiento = {(time.time() - ini)*1000:.3f} ms\") "
   ]
  },
  {
   "cell_type": "markdown",
   "metadata": {},
   "source": [
    "### SVM\n",
    "\n",
    "Utilizaremos el algoritmo <code>SVC</code> de <b>scikit-learn</b> (<a href=\"https://scikit-learn.org/stable/modules/generated/sklearn.svm.SVC.html#sklearn.svm.SVC\">documentación del algoritmo</a>). Es el algoritmo implementado en <b>scikit-learn</b> para clasificación de <code>SVM</code>."
   ]
  },
  {
   "cell_type": "code",
   "execution_count": null,
   "metadata": {},
   "outputs": [],
   "source": [
    "# Creamos nuestra instancia del modelo\n",
    "clf_svm = svm.SVC(kernel='linear')\n",
    "\n",
    "ini = time.time() \n",
    "#Entrenamiento del modelo, llamando a su método fit \n",
    "clf_svm.fit(X_train, y_train) \n",
    "print(f\"Tiempo entrenamiento = {(time.time() - ini)*1000:.3f} ms\") "
   ]
  },
  {
   "cell_type": "markdown",
   "metadata": {
    "button": false,
    "deletable": true,
    "new_sheet": false,
    "run_control": {
     "read_only": false
    }
   },
   "source": [
    "## Predicción\n",
    "Ahora podemos utilizar nuestro modelo entrenado para realizar predicciones, para ello llamamos al método <code>predict</code> con el conjunto de valores que hemos reservado para test:"
   ]
  },
  {
   "cell_type": "markdown",
   "metadata": {},
   "source": [
    "### k-NN"
   ]
  },
  {
   "cell_type": "code",
   "execution_count": null,
   "metadata": {
    "button": false,
    "deletable": true,
    "new_sheet": false,
    "run_control": {
     "read_only": false
    }
   },
   "outputs": [],
   "source": [
    "ini = time.time() \n",
    "y_predict_knn = neigh.predict(X_test)\n",
    "print(f\"Tiempo de predicción = {(time.time() - ini)*1000:.3f} ms\") \n",
    "\n",
    "y_predict_knn[0:5] # muestra del resultado de la predicción"
   ]
  },
  {
   "cell_type": "markdown",
   "metadata": {},
   "source": [
    "### SVM"
   ]
  },
  {
   "cell_type": "code",
   "execution_count": null,
   "metadata": {},
   "outputs": [],
   "source": [
    "ini = time.time() \n",
    "y_predict_svm = clf_svm.predict(X_test)\n",
    "print(f\"Tiempo de predicción = {(time.time() - ini)*1000:.3f} ms\") \n",
    "\n",
    "y_predict_svm [0:5] # muestra del resultado de la predicción"
   ]
  },
  {
   "cell_type": "markdown",
   "metadata": {
    "button": false,
    "deletable": true,
    "new_sheet": false,
    "run_control": {
     "read_only": false
    }
   },
   "source": [
    "## Evaluación de la predicción\n",
    "\n",
    "Aunque trataremos en detalle la evaluación de resultados en la clase de evaluación de resultados, en esta práctica utilizaremos la función <code>score</code> incluida en los clasificadores que hemos utilizado, que devuelve la exactitud media de la predicción y mostraremos la matriz de confunsión de forma gráfica, porque nos permite ver de forma sencilla los elementos que los algoritmos han clasificado correcta e incorrectamente."
   ]
  },
  {
   "cell_type": "markdown",
   "metadata": {},
   "source": [
    "### Exactitud"
   ]
  },
  {
   "cell_type": "code",
   "execution_count": null,
   "metadata": {},
   "outputs": [],
   "source": [
    "print(\"Exactitud media obtenida con k-NN: \", neigh.score(X_test, y_test))"
   ]
  },
  {
   "cell_type": "code",
   "execution_count": null,
   "metadata": {},
   "outputs": [],
   "source": [
    "print(\"Exactitud media obtenida con SVM: \", clf_svm.score(X_test, y_test))"
   ]
  },
  {
   "cell_type": "markdown",
   "metadata": {},
   "source": [
    "### Matriz de confusión\n",
    "\n",
    "Veremos con detalle las matrices de confusión en la clase de evaluación de los resultados, pero la mostramos aquí porque esta gráfica nos permite ver fácilmente el número elemetos que los algoritmos han clasificado correcta e incorrectamente. Para mostrarla utilizamos <code>ConfusionMatrixDisplay</code> (<a href=\"https://scikit-learn.org/stable/modules/generated/sklearn.metrics.ConfusionMatrixDisplay.html\">documentación</a>).\n",
    "\n",
    "<img src=\"img/confusion_matrix.png\" style=\"max-width:700px;\">\n"
   ]
  },
  {
   "cell_type": "code",
   "execution_count": null,
   "metadata": {},
   "outputs": [],
   "source": [
    "cm_kNN = confusion_matrix(y_test, y_predict_knn, labels=[2,4])\n",
    "\n",
    "disp_knn = ConfusionMatrixDisplay(confusion_matrix=cm_kNN, display_labels=['Benigno(2)','Maligno(4)'])\n",
    "disp_knn.plot(cmap=plt.cm.Blues)\n",
    "plt.title(\"Matriz de confusión k-NN\")\n",
    "plt.show()"
   ]
  },
  {
   "cell_type": "code",
   "execution_count": null,
   "metadata": {},
   "outputs": [],
   "source": [
    "cm_svm = confusion_matrix(y_test, y_predict_svm, labels=[2,4])\n",
    "\n",
    "disp_svm = ConfusionMatrixDisplay(confusion_matrix=cm_svm, display_labels=['Benigno(2)','Maligno(4)'])\n",
    "disp_svm.plot(cmap=plt.cm.Blues)\n",
    "plt.title(\"Matriz de confusión SVM\")\n",
    "plt.show()"
   ]
  },
  {
   "cell_type": "markdown",
   "metadata": {},
   "source": [
    "Podemos mostrar varios gráficos en una misma figura. Para ello, vamos a utilizar la función <code>subplots</code>(<a href=\"https://matplotlib.org/stable/api/_as_gen/matplotlib.pyplot.subplots.html\">documentación de la función</a>).\n",
    "\n",
    "De esta forma, mostramos las matrices de confusión para ambos algoritmos:"
   ]
  },
  {
   "cell_type": "code",
   "execution_count": null,
   "metadata": {},
   "outputs": [],
   "source": [
    "fig, axs = plt.subplots(1, 2, figsize=(15,5))\n",
    "axs[0].set_title(\"KNN\")\n",
    "disp_knn.plot(cmap=plt.cm.Blues, ax = axs[0])\n",
    "axs[1].set_title(\"SVM\")\n",
    "disp_svm.plot(cmap=plt.cm.Blues, ax = axs[1])\n",
    "plt.show()"
   ]
  },
  {
   "cell_type": "markdown",
   "metadata": {
    "button": false,
    "deletable": true,
    "new_sheet": false,
    "run_control": {
     "read_only": false
    }
   },
   "source": [
    "<div class=\"alert alert-block alert-info\" \n",
    "     style=\"border: 0px solid #d60e8c; border-radius: 10px; background:#d60e8c; color: white; margin-top:20px;\">\n",
    "      <h2>EJERCICIO 1</h2>\n",
    "    <hr style=\"border: 0.5px solid #ffffff;\">\n",
    "   <ul style=\"margin-bottom: 20px;\">\n",
    "       <li>Crea modelos de k-NN variando el valor de k, desde k=1 hasta k=100, calculando la exactitud de cada modelo, almacenandolos en un array numpy</li>\n",
    "       <li>Muestra cual ha sido el mejor valor de k</li>\n",
    "       <li>Muestra una gráfica con los valores obtenidos para cada k. <br><br>\n",
    "           Ejemplo de gráfica (orientativo, los resultados pueden variar):\n",
    "           <img src=\"img/grafica-k.png\"/>\n",
    "       </li>       \n",
    "    </ul>\n",
    "</div>"
   ]
  },
  {
   "cell_type": "markdown",
   "metadata": {},
   "source": [
    "<h4>Parte1: crear los distintos modelos y calcular su exactitud.</h4>"
   ]
  },
  {
   "cell_type": "code",
   "execution_count": null,
   "metadata": {
    "button": false,
    "deletable": true,
    "new_sheet": false,
    "run_control": {
     "read_only": false
    }
   },
   "outputs": [],
   "source": [
    "# Escribe aquí tu código para realizar la primera parte del ejercicio\n",
    "\n",
    "\n",
    "\n"
   ]
  },
  {
   "cell_type": "markdown",
   "metadata": {},
   "source": [
    "<h4>Parte 2: muestra el mejor valor de k.</h4>\n"
   ]
  },
  {
   "cell_type": "code",
   "execution_count": null,
   "metadata": {},
   "outputs": [],
   "source": [
    "# Escribe aquí tu código para realizar la segunda parte del ejercicio\n",
    "\n",
    "\n"
   ]
  },
  {
   "cell_type": "markdown",
   "metadata": {
    "button": false,
    "deletable": true,
    "new_sheet": false,
    "run_control": {
     "read_only": false
    }
   },
   "source": [
    "<h4>Parte 3:  Gráfica de la exactitud obtenida con distintos valores de k .</h4>\n",
    "\n"
   ]
  },
  {
   "cell_type": "code",
   "execution_count": null,
   "metadata": {
    "button": false,
    "deletable": true,
    "new_sheet": false,
    "run_control": {
     "read_only": false
    }
   },
   "outputs": [],
   "source": [
    "# Escribe aquí tu código para realizar la tercera parte del ejercicio\n",
    "\n",
    "\n",
    "\n"
   ]
  },
  {
   "cell_type": "markdown",
   "metadata": {
    "tags": []
   },
   "source": [
    "<h3>SVM: Efecto de C y gamma</h3>\n",
    "\n",
    "El parámetro gamma es el inverso de la desviación estándar del kernel RBF (función gaussiana), que se utiliza como medida de similitud entre dos puntos. Un valor gamma pequeño define una función gaussiana con una gran varianza. En este caso, dos puntos pueden considerarse similares aunque estén muy alejados el uno del otro. En cambio, un valor gamma grande significa definir una función gaussiana con una pequeña varianza y en este caso, dos puntos se consideran similares sólo si están cerca el uno del otro. \n",
    "\n",
    "Cuanto más estrechos sean los kernels de RBF (gammas más grandes) más \"puntiagudos\" serán sus hipersuperficies, es decir, tendrían una hipersuperficie cercana a cero en todas partes, excepto que tendrían picos donde están los puntos de datos. Por otro lado, si los kernels RBF son demasiado anchos (pequeños gammas), terminarías con una hipersuperficie casi plana.  \n",
    "\n",
    "El parámetro C permite compensar la correcta clasificación de los ejemplos de formación con la maximización del margen de la función de decisión. Para valores mayores de C, se aceptará un margen menor si la función de decisión es mejor para clasificar correctamente todos los puntos de formación. Un valor de C más bajo fomentará un margen más grande, por lo tanto una función de decisión más simple, a costa de la exatitud de la formación. En otras palabras, \"C\" se comporta como un parámetro de regularización en el SVM.\n",
    "\n",
    "__El comportamiento del modelo es muy sensible al parámetro gamma__:\n",
    "\n",
    "<ul>\n",
    "    <li>Si el gamma es demasiado grande, ningún valor de C será capaz de evitar el sobreajuste.</li>\n",
    "    <li>\n",
    "        Si gamma es muy pequeño, el modelo está demasiado restringido y no puede captar la complejidad o la \"forma\" de los datos. El modelo resultante se comportará de manera similar a un modelo lineal.</li>\n",
    "    <li>\n",
    "        Para los valores intermedios de gamma, se pueden encontrar buenos modelos. Los modelos suaves (valores gamma más bajos) pueden hacerse más complejos aumentando la importancia de clasificar cada punto correctamente (valores C más grandes).\n",
    "    </li>\n",
    "\n",
    "</ul>\n",
    "\n",
    "\n",
    "Por último, también se puede observar que para algunos valores intermedios de los gamma se obtienen modelos de igual rendimiento cuando C se hace muy grande: no es necesario regularizar haciendo valer un margen mayor. El radio del núcleo RBF por sí solo actúa como un buen regularizador estructural.\n"
   ]
  },
  {
   "cell_type": "markdown",
   "metadata": {},
   "source": [
    "<div class=\"alert alert-block alert-info\" \n",
    "     style=\"border: 0px solid #d60e8c; border-radius: 10px; background:#d60e8c; color: white; margin-top:20px;\">\n",
    "      <h2>EJERCICIO 2</h2>\n",
    "    <hr style=\"border: 0.5px solid #ffffff;\">\n",
    "   <ul style=\"margin-bottom: 20px;\">\n",
    "       <li>Crea ahora varios SVM con kernel gausiano ('rbf') variando el valor de C y de gamma (4 valores de cada), entrenando y calculando la exactitud de cada combinación de C y gamma.</li>\n",
    "       <li>¿Qué valores de C y gamma han obtenido el mejor resultado? </li>\n",
    "    </ul>\n",
    "</div>"
   ]
  },
  {
   "cell_type": "code",
   "execution_count": null,
   "metadata": {},
   "outputs": [],
   "source": [
    "## Pon aquí tu código para realizar el ejercicio 2\n",
    "\n",
    "\n",
    "\n",
    "\n",
    "\n"
   ]
  },
  {
   "cell_type": "markdown",
   "metadata": {},
   "source": [
    "<a name=\"save_load\"></a>\n",
    "# <font style=\"color:#d60e8c;\">Guardar y cargar un modelo</font>\n",
    "<hr style=\"border: 0.5px solid #d60e8c;\">\n",
    "\n",
    "Podemos guardar un modelo entrenado para usarlo para hacer predicciones.\n",
    "\n",
    "El siguiente bloque de código, entrena un modelo <code>SVM</code> y lo guarda en un fichero.\n"
   ]
  },
  {
   "cell_type": "code",
   "execution_count": null,
   "metadata": {},
   "outputs": [],
   "source": [
    "from joblib import dump, load\n",
    "\n",
    "clf_to_save = svm.SVC(kernel='rbf', gamma=0.1)\n",
    "clf_to_save.fit(X_train, y_train)\n",
    "print(\"Exactitud del modelo: \", clf_to_save.score(X_test,y_test))\n",
    "\n",
    "dump(clf_to_save, 'svm_cell_samples.joblib') "
   ]
  },
  {
   "cell_type": "markdown",
   "metadata": {},
   "source": [
    "<br/>\n",
    "En siguiente bloque de código, carga el modelo guardado previamente y lo utiliza para realizar predicciones:"
   ]
  },
  {
   "cell_type": "code",
   "execution_count": null,
   "metadata": {},
   "outputs": [],
   "source": [
    "clf_loaded = load('svm_cell_samples.joblib') \n",
    "\n",
    "clf_loaded.predict(X_test[0:5]) # Predicción de los cinco primeros valores del conjunto de datos de test"
   ]
  },
  {
   "cell_type": "markdown",
   "metadata": {
    "tags": []
   },
   "source": [
    "<div class=\"alert alert-block alert-info\" \n",
    "     style=\"border: 0px solid #d60e8c; border-radius: 10px; background:#d60e8c; color: white; margin-top:20px;\">\n",
    "      <h2>EJERCICIO 3</h2>\n",
    "    <hr style=\"border: 0.5px solid #ffffff;\">\n",
    "    Utiliza ahora el algoritmo <code>DecisionTreeClassifier</code> de <b>scikit-learn</b> (<a href=\"https://scikit-learn.org/stable/modules/generated/sklearn.tree.DecisionTreeClassifier.html\">documentación del algoritmo</a>) sobre el mismo conjunto de datos:\n",
    "   <ul style=\"margin-bottom: 20px;\">\n",
    "       <li>Configura el modelo con los parámetros que consideres</li>       \n",
    "       <li>Entrénalo y guarda en un archivo el modelo entrenado</li>       \n",
    "       <li>Muestra una figura con el arbol generado</li>       \n",
    "       <li>Calcula y muestra la exactitud del modelo (score)</li>\n",
    "       <li>Carga el modelo guardado y utilízalo para realizar la predicción sobre los 5 primeros registros del conjunto de datos de test</li>\n",
    "    </ul>\n",
    "</div>"
   ]
  },
  {
   "cell_type": "code",
   "execution_count": null,
   "metadata": {},
   "outputs": [],
   "source": [
    "## Pon aquí tu código para realizar el ejercicio 3 - puedes crear celdas adidionales si lo necesitas\n",
    "\n",
    "\n",
    "\n",
    "\n",
    "\n"
   ]
  },
  {
   "cell_type": "markdown",
   "metadata": {
    "button": false,
    "deletable": true,
    "new_sheet": false,
    "run_control": {
     "read_only": false
    }
   },
   "source": [
    "<br/><br/>\n",
    "<hr style=\"border: 0.5px solid #d60e8c;\">\n",
    "<div style=\"text-align:right;\">\n",
    "MASTER UNIVERSITARIO EN INGENIERÍA INDUSTRIAL\n",
    "</div>"
   ]
  }
 ],
 "metadata": {
  "kernelspec": {
   "display_name": "Python 3 (ipykernel)",
   "language": "python",
   "name": "python3"
  },
  "language_info": {
   "codemirror_mode": {
    "name": "ipython",
    "version": 3
   },
   "file_extension": ".py",
   "mimetype": "text/x-python",
   "name": "python",
   "nbconvert_exporter": "python",
   "pygments_lexer": "ipython3",
   "version": "3.10.9"
  }
 },
 "nbformat": 4,
 "nbformat_minor": 4
}
